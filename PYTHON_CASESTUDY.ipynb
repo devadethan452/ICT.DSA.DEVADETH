{
  "nbformat": 4,
  "nbformat_minor": 0,
  "metadata": {
    "colab": {
      "provenance": []
    },
    "kernelspec": {
      "name": "python3",
      "display_name": "Python 3"
    },
    "language_info": {
      "name": "python"
    }
  },
  "cells": [
    {
      "cell_type": "code",
      "execution_count": null,
      "metadata": {
        "id": "gMcJTYBkLHvB"
      },
      "outputs": [],
      "source": [
        "#ANSWER 1\n",
        "#a\n",
        "prices={'apple':10,'banana':20,'milk':25,'rice':40,'oil':80,'bread':30}\n",
        "#b\n",
        "purchased_items = {}\n",
        "while True:\n",
        "    item = input(\"\\nEnter the item you want to buy or finish : \").lower()\n",
        "    if item == 'finish':\n",
        "        break\n",
        "    if item in prices:\n",
        "        quantity = int(input(f\"Enter the quantity of {item}: \"))\n",
        "        purchased_items[item] = quantity\n",
        "#c\n",
        "total_bill = 0\n",
        "print(\"\\nYour purchase list:\")\n",
        "for item, quantity in purchased_items.items():\n",
        "    cost = prices[item] * quantity\n",
        "    total_bill += cost\n",
        "    print(f\"{item}: {quantity} x {prices[item]} = {cost}\")\n",
        "print(f\"\\nTotal bill amount: {total_bill}\")"
      ]
    },
    {
      "cell_type": "code",
      "source": [
        "#ANSWER2\n",
        "#a\n",
        "print(\"Enter marks for 5 subjects:\")\n",
        "marks = []\n",
        "for i in range(1, 6):\n",
        "            mark = float(input(f\"Subject {i} marks : \"))\n",
        "            marks.append(mark)\n",
        "#b\n",
        "average = sum(marks) / len(marks)\n",
        "if average>89:\n",
        "    grade = 'A'\n",
        "elif 70 <= average < 90:\n",
        "    grade = 'B'\n",
        "elif 50 <= average < 70:\n",
        "    grade = 'C'\n",
        "else:\n",
        "    grade = 'F'\n",
        "print(f\"\\nAverage Marks: {average:.2f}\")\n",
        "print(f\"Grade: {grade}\")"
      ],
      "metadata": {
        "id": "LZM7hF-FTh1E",
        "colab": {
          "base_uri": "https://localhost:8080/"
        },
        "outputId": "2d9f12fe-5db7-48a4-edcf-5c714c7d8358"
      },
      "execution_count": 40,
      "outputs": [
        {
          "output_type": "stream",
          "name": "stdout",
          "text": [
            "Enter marks for 5 subjects:\n",
            "Subject 1 marks : 56\n",
            "Subject 2 marks : 68\n",
            "Subject 3 marks : 64\n",
            "Subject 4 marks : 95\n",
            "Subject 5 marks : 65\n",
            "\n",
            "Average Marks: 69.60\n",
            "Grade: C\n"
          ]
        }
      ]
    },
    {
      "cell_type": "code",
      "source": [],
      "metadata": {
        "id": "Akda1mF-Osde"
      },
      "execution_count": 20,
      "outputs": []
    }
  ]
}